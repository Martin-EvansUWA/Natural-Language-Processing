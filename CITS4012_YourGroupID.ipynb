{
  "cells": [
    {
      "cell_type": "markdown",
      "metadata": {
        "id": "32yCsRUo8H33"
      },
      "source": [
        "# 2024 CITS4012 Project\n",
        "*Make sure you change the file name with your group id.*"
      ]
    },
    {
      "cell_type": "markdown",
      "metadata": {
        "id": "XCybYoGz8YWQ"
      },
      "source": [
        "# Readme\n",
        "*If there is something to be noted for the marker, please mention here.*\n",
        "\n",
        "*If you are planning to implement a program with Object Oriented Programming style, please put those the bottom of this ipynb file*"
      ]
    },
    {
      "cell_type": "markdown",
      "metadata": {},
      "source": [
        "## imports"
      ]
    },
    {
      "cell_type": "code",
      "execution_count": 90,
      "metadata": {},
      "outputs": [
        {
          "name": "stderr",
          "output_type": "stream",
          "text": [
            "[nltk_data] Downloading package stopwords to\n",
            "[nltk_data]     C:\\Users\\marti\\AppData\\Roaming\\nltk_data...\n",
            "[nltk_data]   Package stopwords is already up-to-date!\n",
            "[nltk_data] Downloading package punkt to\n",
            "[nltk_data]     C:\\Users\\marti\\AppData\\Roaming\\nltk_data...\n",
            "[nltk_data]   Package punkt is already up-to-date!\n",
            "[nltk_data] Downloading package punkt_tab to\n",
            "[nltk_data]     C:\\Users\\marti\\AppData\\Roaming\\nltk_data...\n",
            "[nltk_data]   Package punkt_tab is already up-to-date!\n",
            "[nltk_data] Downloading package wordnet to\n",
            "[nltk_data]     C:\\Users\\marti\\AppData\\Roaming\\nltk_data...\n",
            "[nltk_data]   Package wordnet is already up-to-date!\n",
            "[nltk_data] Downloading package averaged_perceptron_tagger_eng to\n",
            "[nltk_data]     C:\\Users\\marti\\AppData\\Roaming\\nltk_data...\n",
            "[nltk_data]   Package averaged_perceptron_tagger_eng is already up-to-\n",
            "[nltk_data]       date!\n"
          ]
        }
      ],
      "source": [
        "import re\n",
        "import nltk\n",
        "from nltk.corpus import stopwords\n",
        "from nltk.stem import WordNetLemmatizer\n",
        "\n",
        "nltk.download(\"stopwords\")\n",
        "nltk.download(\"punkt\")\n",
        "nltk.download(\"punkt_tab\")\n",
        "nltk.download(\"wordnet\")\n",
        "nltk.download(\"averaged_perceptron_tagger_eng\")\n",
        "\n",
        "stop_words = set(stopwords.words(\"english\"))"
      ]
    },
    {
      "cell_type": "markdown",
      "metadata": {},
      "source": [
        "## Dataset Path\n",
        "\n",
        "\n"
      ]
    },
    {
      "cell_type": "code",
      "execution_count": 91,
      "metadata": {},
      "outputs": [],
      "source": [
        "db_path = \"dataset\"\n",
        "\n",
        "train_file = f\"{db_path}/train.json\"\n",
        "test_file = f\"{db_path}/test.json\"\n",
        "val_file = f\"{db_path}/validation.json\""
      ]
    },
    {
      "cell_type": "markdown",
      "metadata": {
        "id": "6po98qVA8bJD"
      },
      "source": [
        "# 1.Dataset Processing\n",
        "(You can add as many code blocks and text blocks as you need. However, YOU SHOULD NOT MODIFY the section title)"
      ]
    },
    {
      "cell_type": "code",
      "execution_count": 92,
      "metadata": {
        "id": "qvff21Hv8zjk"
      },
      "outputs": [
        {
          "data": {
            "text/plain": [
              "('Pluto rotates once on its axis every 6.39 Earth days;',\n",
              " 'Earth rotates on its axis once times in one day.',\n",
              " 'neutral',\n",
              " 23088)"
            ]
          },
          "execution_count": 92,
          "metadata": {},
          "output_type": "execute_result"
        }
      ],
      "source": [
        "import json\n",
        "with open(train_file, \"r\") as fp:\n",
        "    train = json.load(fp)\n",
        "with open(val_file, \"r\") as fp:\n",
        "    val = json.load(fp)\n",
        "with open(test_file, \"r\") as fp:\n",
        "    test = json.load(fp)\n",
        "\n",
        "train['premise']['0'], train['hypothesis']['0'], train['label']['0'], len(train['premise'])\n",
        "\n"
      ]
    },
    {
      "cell_type": "code",
      "execution_count": 93,
      "metadata": {},
      "outputs": [
        {
          "data": {
            "text/plain": [
              "'*'"
            ]
          },
          "execution_count": 93,
          "metadata": {},
          "output_type": "execute_result"
        }
      ],
      "source": [
        "train['premise']['146']"
      ]
    },
    {
      "cell_type": "code",
      "execution_count": 94,
      "metadata": {},
      "outputs": [],
      "source": [
        "from nltk.stem import WordNetLemmatizer, PorterStemmer, LancasterStemmer\n",
        "from nltk import pos_tag\n",
        "import numpy as np\n",
        "\n",
        "\n",
        "class Config:\n",
        "    stem = False\n",
        "    stemmer = PorterStemmer()\n",
        "    lemmatize = False\n",
        "    lemmatizer = WordNetLemmatizer()\n",
        "    tokenize = True\n",
        "\n",
        "    clean_text = True\n",
        "    regex = r\"[^a-z0-9\\-\\s]\"\n",
        "\n",
        "    pos = False\n",
        "    pos_tagger = pos_tag\n",
        "\n",
        "    lower = True\n",
        "\n",
        "    stopwords = set(stopwords.words('english'))\n",
        "\n",
        "\n",
        "class textProcesser():\n",
        "    def __init__(self, cfg: Config) -> None:\n",
        "        self.cfg = cfg\n",
        "\n",
        "        self.lemmatizer = cfg.lemmatizer\n",
        "        self.stemmer = cfg.stemmer\n",
        "        self.stop_words = cfg.stopwords\n",
        "\n",
        "\n",
        "    def clean(self, sentence: str) -> list[str]:\n",
        "        tokens = [sentence]\n",
        "        if self.cfg.tokenize:\n",
        "            tokens = nltk.word_tokenize(sentence)\n",
        "\n",
        "        if self.cfg.lemmatize:\n",
        "            tokens = [self.lemmatizer.lemmatize(token) for token in tokens]\n",
        "\n",
        "        if self.cfg.stem:\n",
        "            tokens = [self.stemmer.stem(token) for token in tokens]\n",
        "\n",
        "        if self.cfg.clean_text:\n",
        "                \n",
        "            tokens = [re.sub(self.cfg.regex, '', token.lower() if self.cfg.lower else token) for token in tokens]\n",
        "            tokens = [token for token in tokens if token and token not in self.stop_words]\n",
        "\n",
        "        if self.cfg.pos:\n",
        "            tokens = self.cfg.pos_tagger(tokens)\n",
        "        \n",
        "        return tokens\n",
        "    \n",
        "    def clean_text(self, json):\n",
        "        clean = {'premise': {}, 'hypothesis': {}, 'label': {}}\n",
        "        for idx, key in enumerate(json['label'].keys()):\n",
        "\n",
        "            p_clean = self.clean(json['premise'][key])\n",
        "            h_clean = self.clean(json['hypothesis'][key])\n",
        "\n",
        "            if len(p_clean) == 0 or len(h_clean) == 0:\n",
        "                print(f\" Warning: Empty premise or hypothesis at index {idx} (key: {key}).\")\n",
        "\n",
        "            if 'neutral' in json['label'][key]:\n",
        "                clean['label'][idx] = 0\n",
        "            else:\n",
        "                clean['label'][idx] = 1\n",
        "\n",
        "            clean['premise'][idx] = p_clean\n",
        "            clean['hypothesis'][idx] = h_clean\n",
        "            \n",
        "        return clean"
      ]
    },
    {
      "cell_type": "code",
      "execution_count": 95,
      "metadata": {},
      "outputs": [
        {
          "name": "stdout",
          "output_type": "stream",
          "text": [
            " Warning: Empty premise or hypothesis at index 146 (key: 146).\n"
          ]
        },
        {
          "data": {
            "text/plain": [
              "([], ['takes', 'earth', 'one', 'week', 'rotate', 'axis', 'seven', 'times'], 0)"
            ]
          },
          "execution_count": 95,
          "metadata": {},
          "output_type": "execute_result"
        }
      ],
      "source": [
        "clean_train = textProcesser(Config()).clean_text(train)\n",
        "clean_val = textProcesser(Config()).clean_text(val)\n",
        "clean_test = textProcesser(Config()).clean_text(test)\n",
        "clean_train['premise'][146], clean_train['hypothesis'][146], clean_train['label'][146]"
      ]
    },
    {
      "cell_type": "code",
      "execution_count": 96,
      "metadata": {},
      "outputs": [
        {
          "data": {
            "text/html": [
              "<div>\n",
              "<style scoped>\n",
              "    .dataframe tbody tr th:only-of-type {\n",
              "        vertical-align: middle;\n",
              "    }\n",
              "\n",
              "    .dataframe tbody tr th {\n",
              "        vertical-align: top;\n",
              "    }\n",
              "\n",
              "    .dataframe thead th {\n",
              "        text-align: right;\n",
              "    }\n",
              "</style>\n",
              "<table border=\"1\" class=\"dataframe\">\n",
              "  <thead>\n",
              "    <tr style=\"text-align: right;\">\n",
              "      <th></th>\n",
              "      <th>label</th>\n",
              "      <th>premise</th>\n",
              "      <th>hypothesis</th>\n",
              "    </tr>\n",
              "  </thead>\n",
              "  <tbody>\n",
              "    <tr>\n",
              "      <th>0</th>\n",
              "      <td>0</td>\n",
              "      <td>[pluto, rotates, axis, every, 639, earth, days]</td>\n",
              "      <td>[earth, rotates, axis, times, one, day]</td>\n",
              "    </tr>\n",
              "    <tr>\n",
              "      <th>1</th>\n",
              "      <td>1</td>\n",
              "      <td>[--, -glenn, per, day, earth, rotates, axis]</td>\n",
              "      <td>[earth, rotates, axis, times, one, day]</td>\n",
              "    </tr>\n",
              "    <tr>\n",
              "      <th>2</th>\n",
              "      <td>0</td>\n",
              "      <td>[geysers, -, periodic, gush, hot, water, surfa...</td>\n",
              "      <td>[surface, sun, much, hotter, almost, anything,...</td>\n",
              "    </tr>\n",
              "    <tr>\n",
              "      <th>3</th>\n",
              "      <td>1</td>\n",
              "      <td>[facts, liquid, water, droplets, changed, invi...</td>\n",
              "      <td>[evaporation, responsible, changing, liquid, w...</td>\n",
              "    </tr>\n",
              "    <tr>\n",
              "      <th>4</th>\n",
              "      <td>1</td>\n",
              "      <td>[comparison, earth, rotates, axis, per, day, r...</td>\n",
              "      <td>[earth, rotates, axis, times, one, day]</td>\n",
              "    </tr>\n",
              "  </tbody>\n",
              "</table>\n",
              "</div>"
            ],
            "text/plain": [
              "   label                                            premise  \\\n",
              "0      0    [pluto, rotates, axis, every, 639, earth, days]   \n",
              "1      1       [--, -glenn, per, day, earth, rotates, axis]   \n",
              "2      0  [geysers, -, periodic, gush, hot, water, surfa...   \n",
              "3      1  [facts, liquid, water, droplets, changed, invi...   \n",
              "4      1  [comparison, earth, rotates, axis, per, day, r...   \n",
              "\n",
              "                                          hypothesis  \n",
              "0            [earth, rotates, axis, times, one, day]  \n",
              "1            [earth, rotates, axis, times, one, day]  \n",
              "2  [surface, sun, much, hotter, almost, anything,...  \n",
              "3  [evaporation, responsible, changing, liquid, w...  \n",
              "4            [earth, rotates, axis, times, one, day]  "
            ]
          },
          "execution_count": 96,
          "metadata": {},
          "output_type": "execute_result"
        }
      ],
      "source": [
        "import pandas as pd\n",
        "train_df = pd.DataFrame({\n",
        "    \"label\": clean_train[\"label\"],\n",
        "    \"premise\": clean_train[\"premise\"],\n",
        "    \"hypothesis\": clean_train[\"hypothesis\"]\n",
        "})\n",
        "\n",
        "val_df = pd.DataFrame({\n",
        "    \"label\": clean_val[\"label\"],\n",
        "    \"premise\": clean_val[\"premise\"],\n",
        "    \"hypothesis\": clean_val[\"hypothesis\"]\n",
        "})\n",
        "\n",
        "test_df = pd.DataFrame({\n",
        "    \"label\": clean_test[\"label\"],\n",
        "    \"premise\": clean_test[\"premise\"],\n",
        "    \"hypothesis\": clean_test[\"hypothesis\"]\n",
        "})\n",
        "\n",
        "train_df = train_df.reset_index(drop=True)\n",
        "train_df.head()"
      ]
    },
    {
      "cell_type": "code",
      "execution_count": 97,
      "metadata": {},
      "outputs": [
        {
          "data": {
            "image/png": "[encoded data removed]",
            "text/plain": [
              "<Figure size 1500x400 with 3 Axes>"
            ]
          },
          "metadata": {},
          "output_type": "display_data"
        }
      ],
      "source": [
        "import matplotlib.pyplot as plt\n",
        "import seaborn as sns\n",
        "\n",
        "splits = [('Train', train_df), ('Validation', val_df), ('Test', test_df)]\n",
        "colors = ['skyblue', 'salmon', 'lightgreen']  # one color per split\n",
        "\n",
        "plt.figure(figsize=(15,4))\n",
        "\n",
        "for i, ((name, df), color) in enumerate(zip(splits, colors), 1):\n",
        "    plt.subplot(1, 3, i)\n",
        "    counts = df['label'].value_counts().sort_index()\n",
        "    sns.barplot(x=['Neutral', 'Entails'], y=counts.values, color=color)\n",
        "    plt.title(f\"{name} Set\")\n",
        "    plt.xlabel(\"Label\")\n",
        "    plt.ylabel(\"Count\")\n",
        "\n",
        "plt.tight_layout()\n",
        "plt.show()\n"
      ]
    },
    {
      "cell_type": "code",
      "execution_count": 98,
      "metadata": {},
      "outputs": [],
      "source": [
        "import torch\n",
        "import torch.nn as nn\n",
        "from torch.utils.data import Dataset,  DataLoader\n",
        "\n",
        "class nliDataset(Dataset):\n",
        "  def __init__(self, df, embed_model):\n",
        "    self.df = df\n",
        "    self.embed_model = embed_model\n",
        "\n",
        "  def __len__(self):\n",
        "    return len(self.df)\n",
        "\n",
        "  def __getitem__(self, index):\n",
        "    premise = self.df[\"premise\"].iloc[index]\n",
        "    hypothesis = self.df[\"hypothesis\"].iloc[index]\n",
        "    p_embed = np.array([self.embed_model.wv[word] for word in premise if word in self.embed_model.wv])\n",
        "    h_embed = np.array([self.embed_model.wv[word] for word in hypothesis if word in self.embed_model.wv])\n",
        "\n",
        "    if len(p_embed) == 0:\n",
        "        p_embed = np.zeros((1, self.embed_model.vector_size))\n",
        "    if len(h_embed) == 0:\n",
        "        h_embed = np.zeros((1, self.embed_model.vector_size))\n",
        "    label = int(self.df[\"label\"].iloc[index])\n",
        "\n",
        "    p_embed = torch.tensor(p_embed, dtype=torch.float32)\n",
        "    h_embed = torch.tensor(h_embed, dtype=torch.float32)\n",
        "    label = torch.tensor(label, dtype=torch.float32).unsqueeze(0)\n",
        "\n",
        "    return p_embed, h_embed, label\n"
      ]
    },
    {
      "cell_type": "code",
      "execution_count": 99,
      "metadata": {},
      "outputs": [],
      "source": [
        "import numpy as np\n",
        "import torch\n",
        "from torch.nn.utils.rnn import pad_sequence\n",
        "\n",
        "def collate_fn(batch):\n",
        "    p_embeds, h_embeds, labels = zip(*batch)\n",
        "\n",
        "    p_lengths = torch.tensor([x.shape[0] for x in p_embeds], dtype=torch.long)\n",
        "    h_lengths = torch.tensor([x.shape[0] for x in h_embeds], dtype=torch.long)\n",
        "\n",
        "    p_padded = pad_sequence(p_embeds, batch_first=True)  # (batch, max_p_len, embed_dim)\n",
        "    h_padded = pad_sequence(h_embeds, batch_first=True)  # (batch, max_h_len, embed_dim)\n",
        "\n",
        "    labels = torch.stack(labels)\n",
        "\n",
        "    return p_padded, h_padded, labels, p_lengths, h_lengths\n"
      ]
    },
    {
      "cell_type": "code",
      "execution_count": 100,
      "metadata": {},
      "outputs": [],
      "source": [
        "from gensim.models import Word2Vec\n",
        "sentences = list(clean_train['premise'].values()) + list(clean_train['hypothesis'].values())\n",
        "embed_model = Word2Vec(sentences=sentences, vector_size=300, window=10, min_count=3, workers=2, sg=1)\n"
      ]
    },
    {
      "cell_type": "code",
      "execution_count": 101,
      "metadata": {},
      "outputs": [
        {
          "data": {
            "text/plain": [
              "(2886, 163, 266)"
            ]
          },
          "execution_count": 101,
          "metadata": {},
          "output_type": "execute_result"
        }
      ],
      "source": [
        "train_db = nliDataset(train_df, embed_model=embed_model)\n",
        "trainloader = DataLoader(train_db, batch_size=8, shuffle=True, collate_fn=collate_fn)\n",
        "val_db = nliDataset(val_df, embed_model=embed_model)\n",
        "valloader = DataLoader(val_db, batch_size=8, shuffle=True, collate_fn=collate_fn)\n",
        "test_db = nliDataset(test_df, embed_model=embed_model)\n",
        "testloader = DataLoader(test_db, batch_size=8, shuffle=True, collate_fn=collate_fn)\n",
        "\n",
        "len(trainloader), len(valloader), len(testloader)\n",
        "\n",
        "\n",
        "\n"
      ]
    },
    {
      "cell_type": "markdown",
      "metadata": {
        "id": "1FA2ao2l8hOg"
      },
      "source": [
        "# 2. Model Implementation\n",
        "(You can add as many code blocks and text blocks as you need. However, YOU SHOULD NOT MODIFY the section title)"
      ]
    },
    {
      "cell_type": "markdown",
      "metadata": {},
      "source": [
        "## Task"
      ]
    },
    {
      "cell_type": "code",
      "execution_count": 110,
      "metadata": {},
      "outputs": [],
      "source": [
        "from collections import Counter\n",
        "from torch.utils.data import WeightedRandomSampler\n",
        "from tqdm import tqdm\n",
        "\n",
        "class Task():\n",
        "  def __init__(self, model, \n",
        "                train_df, \n",
        "                val_df, \n",
        "                save_path, \n",
        "                collate_fn=collate_fn, \n",
        "                optimizer=None,\n",
        "                loss_fn=None,\n",
        "                device=\"cpu\", \n",
        "                batch_size=16, \n",
        "                weighted_sampling=False) -> None:\n",
        "\n",
        "    self.train_df = train_df\n",
        "    self.val_df = val_df\n",
        "\n",
        "    self.optimizer = optimizer\n",
        "    self.loss_fn = loss_fn\n",
        "\n",
        "    self.save_path = save_path\n",
        "\n",
        "    if weighted_sampling:\n",
        "      labels = train_df['label'].values\n",
        "      class_counts = Counter(labels)\n",
        "      num_samples = len(labels)\n",
        "      class_weights = {cls: num_samples/count for cls, count in class_counts.items()}\n",
        "      sample_weights = [class_weights[label] for label in labels]\n",
        "      sampler = WeightedRandomSampler(sample_weights, num_samples=num_samples, replacement=True)\n",
        "    else:\n",
        "      sampler = None\n",
        "    \n",
        "    train_db = nliDataset(train_df, embed_model=embed_model)\n",
        "    val_db = nliDataset(val_df, embed_model=embed_model)\n",
        "\n",
        "    self.train_loader = DataLoader(train_db, batch_size=batch_size, sampler=sampler, shuffle=True, collate_fn=collate_fn)\n",
        "    self.val_loader = DataLoader(val_db, batch_size=batch_size, shuffle=False, collate_fn=collate_fn)\n",
        "\n",
        "    self.model = model\n",
        "    self.device = device\n",
        "\n",
        "\n",
        "    self.model = model.to(device)\n",
        "\n",
        "    self.losses = {}\n",
        "    self.losses[\"train\"] = []\n",
        "    self.losses[\"val\"] = []\n",
        "\n",
        "\n",
        "\n",
        "  def train_epoch(self):\n",
        "    self.model.train()\n",
        "    epoch_loss = 0\n",
        "    for batch in tqdm(self.train_loader, total=len(self.train_loader), desc=\"Training\"):\n",
        "        p_padded, h_padded, labels, p_lengths, h_lengths = batch\n",
        "\n",
        "        p_padded = p_padded.to(self.device)\n",
        "        h_padded = h_padded.to(self.device)\n",
        "        labels = labels.to(self.device)\n",
        "        outputs = self.model(p_padded, h_padded, p_lengths, h_lengths)\n",
        "\n",
        "        loss = self.loss_fn(outputs, labels)\n",
        "\n",
        "        self.optimizer.zero_grad()\n",
        "        loss.backward()\n",
        "        self.optimizer.step()\n",
        "\n",
        "        epoch_loss += loss.item()\n",
        "\n",
        "    epoch_loss /= len(self.train_loader)\n",
        "    return epoch_loss\n",
        "  \n",
        "\n",
        "  def validate_epoch(self):\n",
        "    self.model.eval()\n",
        "    with torch.no_grad():\n",
        "        val_loss = 0\n",
        "        correct = 0\n",
        "        total = 0\n",
        "\n",
        "        for batch in tqdm(self.val_loader, total=len(self.val_loader), desc=\"Validating\"):\n",
        "            p_padded, h_padded, labels, p_lengths, h_lengths = batch\n",
        "\n",
        "            p_padded = p_padded.to(self.device)\n",
        "            h_padded = h_padded.to(self.device)\n",
        "            labels = labels.to(self.device)\n",
        "\n",
        "            outputs = self.model(p_padded, h_padded, p_lengths, h_lengths)\n",
        "            loss = self.loss_fn(outputs, labels)\n",
        "            val_loss += loss.item()\n",
        "\n",
        "            _, predicted = torch.max(outputs, dim=1)\n",
        "\n",
        "            correct += (predicted == labels.squeeze()).sum().item()\n",
        "            total += labels.size(0)\n",
        "\n",
        "        val_loss /= len(self.val_loader)\n",
        "        accuracy = correct / total\n",
        "    return val_loss, accuracy\n",
        "     \n",
        "\n",
        "  def fit(self, epochs, restore_best=True):\n",
        "    best_val_loss = float('inf')\n",
        "    for epoch in range(epochs):\n",
        "        train_loss = self.train_epoch()\n",
        "        val_loss, val_acc = self.validate_epoch()\n",
        "\n",
        "        self.losses[\"train\"].append(train_loss)\n",
        "        self.losses[\"val\"].append(val_loss)\n",
        "\n",
        "        print(f\"Epoch {epoch+1}/{epochs}, Train Loss: {train_loss:.4f}, Val Loss: {val_loss:.4f}, Val Acc: {val_acc:.4f}\")\n",
        "        if val_loss < best_val_loss:\n",
        "            best_val_loss = val_loss\n",
        "            torch.save(self.model.state_dict(), self.save_path)\n",
        "            print(f\"Model saved to {self.save_path}\")\n",
        "\n",
        "    print(\"Training complete.\")\n",
        "    if restore_best:\n",
        "      print(\"Restoring best model weights.\")\n",
        "      self.model.load_state_dict(torch.load(self.save_path))\n",
        "    return self.losses\n",
        "\n",
        "\n"
      ]
    },
    {
      "cell_type": "markdown",
      "metadata": {},
      "source": [
        "## BiLSTM"
      ]
    },
    {
      "cell_type": "code",
      "execution_count": 116,
      "metadata": {
        "id": "QIEqDDT78q39"
      },
      "outputs": [],
      "source": [
        "from torch.nn.utils.rnn import pack_padded_sequence\n",
        "\n",
        "class twin_LSTM(nn.Module):\n",
        "  def __init__(self, input_size=100, hidden_size=128, output_size=1, dropout=0.5, bidirectional=True):\n",
        "    super().__init__()\n",
        "    self.hidden_size = hidden_size\n",
        "    self.bidirectional = bidirectional\n",
        "\n",
        "    self.px_lstm = nn.LSTM(input_size, self.hidden_size, num_layers=1, bidirectional=bidirectional, batch_first=True)\n",
        "    self.hx_lstm = nn.LSTM(input_size, self.hidden_size, num_layers=1, bidirectional=bidirectional, batch_first=True)\n",
        "\n",
        "    self.fc = nn.Sequential(\n",
        "      nn.Dropout(dropout),\n",
        "      nn.Linear(self.hidden_size * 2 * (2 if bidirectional else 1), output_size),\n",
        "      nn.Sigmoid()\n",
        "    )\n",
        "\n",
        "  def forward(self, px, hx, plengths, hlengths):\n",
        "      # Pack sequences\n",
        "      packed_px = pack_padded_sequence(px, plengths.cpu(), batch_first=True, enforce_sorted=False)\n",
        "      px_output, (px_hn, _) = self.px_lstm(packed_px)\n",
        "\n",
        "      packed_hx = pack_padded_sequence(hx, hlengths.cpu(), batch_first=True, enforce_sorted=False)\n",
        "      hx_output, (hx_hn, _) = self.hx_lstm(packed_hx)\n",
        "\n",
        "      # Take last hidden state(s) depending on bidirectionality\n",
        "      if self.bidirectional:\n",
        "          px_out = torch.cat([px_hn[-2], px_hn[-1]], dim=1)\n",
        "          hx_out = torch.cat([hx_hn[-2], hx_hn[-1]], dim=1)\n",
        "      else:\n",
        "          px_out = px_hn[-1]\n",
        "          hx_out = hx_hn[-1]\n",
        "\n",
        "      out = self.fc(torch.cat([px_out, hx_out], dim=1))\n",
        "      return out\n"
      ]
    },
    {
      "cell_type": "code",
      "execution_count": 117,
      "metadata": {},
      "outputs": [
        {
          "data": {
            "text/plain": [
              "==========================================================================================\n",
              "Layer (type:depth-idx)                   Output Shape              Param #\n",
              "==========================================================================================\n",
              "twin_LSTM                                [8, 1]                    --\n",
              "├─LSTM: 1-1                              [80, 256]                 440,320\n",
              "├─LSTM: 1-2                              [96, 256]                 440,320\n",
              "├─Sequential: 1-3                        [8, 1]                    --\n",
              "│    └─Dropout: 2-1                      [8, 512]                  --\n",
              "│    └─Linear: 2-2                       [8, 1]                    513\n",
              "│    └─Sigmoid: 2-3                      [8, 1]                    --\n",
              "==========================================================================================\n",
              "Total params: 881,153\n",
              "Trainable params: 881,153\n",
              "Non-trainable params: 0\n",
              "Total mult-adds (Units.GIGABYTES): 19.84\n",
              "==========================================================================================\n",
              "Input size (MB): 0.21\n",
              "Forward/backward pass size (MB): 0.36\n",
              "Params size (MB): 3.52\n",
              "Estimated Total Size (MB): 4.10\n",
              "=========================================================================================="
            ]
          },
          "execution_count": 117,
          "metadata": {},
          "output_type": "execute_result"
        }
      ],
      "source": [
        "from torchinfo import summary\n",
        "\n",
        "model = twin_LSTM(input_size=embed_model.vector_size, hidden_size=128, output_size=1, dropout=0.5, bidirectional=True)\n",
        "summary(model, input_data=[torch.randn(8, 10, embed_model.vector_size), torch.randn(8, 12, embed_model.vector_size), torch.tensor([10]*8), torch.tensor([12]*8)])"
      ]
    },
    {
      "cell_type": "code",
      "execution_count": 118,
      "metadata": {},
      "outputs": [],
      "source": [
        "task = Task(\n",
        "    model=model,\n",
        "    train_df=train_df,\n",
        "    val_df=val_df,\n",
        "    save_path=\"best_model.pth\",\n",
        "    optimizer=torch.optim.Adam(model.parameters(), lr=0.001),\n",
        "    loss_fn=nn.BCELoss(),\n",
        "    device=\"cuda\" if torch.cuda.is_available() else \"cpu\",\n",
        "    batch_size=8,\n",
        "    weighted_sampling=False\n",
        ")\n",
        "\n"
      ]
    },
    {
      "cell_type": "code",
      "execution_count": null,
      "metadata": {},
      "outputs": [
        {
          "name": "stderr",
          "output_type": "stream",
          "text": [
            "Training: 100%|██████████| 2886/2886 [00:48<00:00, 59.56it/s]\n",
            "Validating: 100%|██████████| 163/163 [00:01<00:00, 155.42it/s]\n"
          ]
        },
        {
          "name": "stdout",
          "output_type": "stream",
          "text": [
            "Epoch 1/5, Train Loss: 0.5383, Val Loss: 0.6234, Val Acc: 0.4962\n",
            "Model saved to best_model.pth\n"
          ]
        },
        {
          "name": "stderr",
          "output_type": "stream",
          "text": [
            "Training: 100%|██████████| 2886/2886 [00:49<00:00, 58.37it/s]\n",
            "Validating: 100%|██████████| 163/163 [00:01<00:00, 135.86it/s]\n"
          ]
        },
        {
          "name": "stdout",
          "output_type": "stream",
          "text": [
            "Epoch 2/5, Train Loss: 0.4241, Val Loss: 0.6205, Val Acc: 0.4962\n",
            "Model saved to best_model.pth\n"
          ]
        },
        {
          "name": "stderr",
          "output_type": "stream",
          "text": [
            "Training:  44%|████▍     | 1279/2886 [00:22<00:26, 60.02it/s]"
          ]
        }
      ],
      "source": [
        "task.fit(epochs=5)"
      ]
    },
    {
      "cell_type": "markdown",
      "metadata": {
        "id": "EzGuzHPE87Ya"
      },
      "source": [
        "# 3.Testing and Evaluation\n",
        "(You can add as many code blocks and text blocks as you need. However, YOU SHOULD NOT MODIFY the section title)"
      ]
    },
    {
      "cell_type": "code",
      "execution_count": null,
      "metadata": {
        "id": "6ZVeNYIH9IaL"
      },
      "outputs": [],
      "source": []
    },
    {
      "cell_type": "markdown",
      "metadata": {
        "id": "mefSOe8eTmGP"
      },
      "source": [
        "## Object Oriented Programming codes here\n",
        "\n",
        "*You can use multiple code snippets. Just add more if needed*"
      ]
    }
  ],
  "metadata": {
    "colab": {
      "provenance": [],
      "toc_visible": true
    },
    "kernelspec": {
      "display_name": "venv",
      "language": "python",
      "name": "python3"
    },
    "language_info": {
      "codemirror_mode": {
        "name": "ipython",
        "version": 3
      },
      "file_extension": ".py",
      "mimetype": "text/x-python",
      "name": "python",
      "nbconvert_exporter": "python",
      "pygments_lexer": "ipython3",
      "version": "3.12.10"
    }
  },
  "nbformat": 4,
  "nbformat_minor": 0
}
