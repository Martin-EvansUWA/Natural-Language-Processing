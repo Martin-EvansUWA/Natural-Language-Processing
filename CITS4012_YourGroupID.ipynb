{
  "cells": [
    {
      "cell_type": "markdown",
      "metadata": {
        "id": "32yCsRUo8H33"
      },
      "source": [
        "# 2024 CITS4012 Project\n",
        "*Make sure you change the file name with your group id.*"
      ]
    },
    {
      "cell_type": "markdown",
      "metadata": {
        "id": "XCybYoGz8YWQ"
      },
      "source": [
        "# Readme\n",
        "*If there is something to be noted for the marker, please mention here.*\n",
        "\n",
        "*If you are planning to implement a program with Object Oriented Programming style, please put those the bottom of this ipynb file*"
      ]
    },
    {
      "cell_type": "markdown",
      "metadata": {},
      "source": [
        "## imports"
      ]
    },
    {
      "cell_type": "code",
      "execution_count": 1,
      "metadata": {},
      "outputs": [
        {
          "name": "stderr",
          "output_type": "stream",
          "text": [
            "[nltk_data] Downloading package stopwords to\n",
            "[nltk_data]     C:\\Users\\marti\\AppData\\Roaming\\nltk_data...\n",
            "[nltk_data]   Package stopwords is already up-to-date!\n",
            "[nltk_data] Downloading package punkt to\n",
            "[nltk_data]     C:\\Users\\marti\\AppData\\Roaming\\nltk_data...\n",
            "[nltk_data]   Package punkt is already up-to-date!\n",
            "[nltk_data] Downloading package punkt_tab to\n",
            "[nltk_data]     C:\\Users\\marti\\AppData\\Roaming\\nltk_data...\n",
            "[nltk_data]   Package punkt_tab is already up-to-date!\n",
            "[nltk_data] Downloading package wordnet to\n",
            "[nltk_data]     C:\\Users\\marti\\AppData\\Roaming\\nltk_data...\n",
            "[nltk_data]   Package wordnet is already up-to-date!\n",
            "[nltk_data] Downloading package averaged_perceptron_tagger_eng to\n",
            "[nltk_data]     C:\\Users\\marti\\AppData\\Roaming\\nltk_data...\n",
            "[nltk_data]   Package averaged_perceptron_tagger_eng is already up-to-\n",
            "[nltk_data]       date!\n"
          ]
        }
      ],
      "source": [
        "import re\n",
        "import nltk\n",
        "from nltk.corpus import stopwords\n",
        "from nltk.stem import WordNetLemmatizer\n",
        "\n",
        "nltk.download(\"stopwords\")\n",
        "nltk.download(\"punkt\")\n",
        "nltk.download(\"punkt_tab\")\n",
        "nltk.download(\"wordnet\")\n",
        "nltk.download(\"averaged_perceptron_tagger_eng\")\n",
        "\n",
        "stop_words = set(stopwords.words(\"english\"))"
      ]
    },
    {
      "cell_type": "markdown",
      "metadata": {},
      "source": [
        "## Dataset Path\n",
        "\n",
        "\n"
      ]
    },
    {
      "cell_type": "code",
      "execution_count": 2,
      "metadata": {},
      "outputs": [],
      "source": [
        "db_path = \"dataset\"\n",
        "\n",
        "train_file = f\"{db_path}/train.json\"\n",
        "test_file = f\"{db_path}/test.json\"\n",
        "val_file = f\"{db_path}/validation.json\""
      ]
    },
    {
      "cell_type": "markdown",
      "metadata": {
        "id": "6po98qVA8bJD"
      },
      "source": [
        "# 1.Dataset Processing\n",
        "(You can add as many code blocks and text blocks as you need. However, YOU SHOULD NOT MODIFY the section title)"
      ]
    },
    {
      "cell_type": "code",
      "execution_count": 3,
      "metadata": {
        "id": "qvff21Hv8zjk"
      },
      "outputs": [
        {
          "data": {
            "text/plain": [
              "('Pluto rotates once on its axis every 6.39 Earth days;',\n",
              " 'Earth rotates on its axis once times in one day.',\n",
              " 'neutral',\n",
              " 23088)"
            ]
          },
          "execution_count": 3,
          "metadata": {},
          "output_type": "execute_result"
        }
      ],
      "source": [
        "import json\n",
        "with open(train_file, \"r\") as fp:\n",
        "    train = json.load(fp)\n",
        "with open(val_file, \"r\") as fp:\n",
        "    val = json.load(fp)\n",
        "with open(test_file, \"r\") as fp:\n",
        "    test = json.load(fp)\n",
        "\n",
        "train['premise']['0'], train['hypothesis']['0'], train['label']['0'], len(train['premise'])\n",
        "\n"
      ]
    },
    {
      "cell_type": "code",
      "execution_count": 4,
      "metadata": {},
      "outputs": [],
      "source": [
        "from nltk.stem import WordNetLemmatizer, PorterStemmer, LancasterStemmer\n",
        "from nltk import pos_tag\n",
        "import numpy as np\n",
        "\n",
        "\n",
        "class Config:\n",
        "    stem = False\n",
        "    stemmer = PorterStemmer()\n",
        "    lemmatize = True\n",
        "    lemmatizer = WordNetLemmatizer()\n",
        "    tokenize = True\n",
        "\n",
        "    clean_text = True\n",
        "    regex = r\"[^a-z0-9\\-\\s]\"\n",
        "\n",
        "    pos = True\n",
        "    pos_tagger = pos_tag\n",
        "\n",
        "    lower = True\n",
        "\n",
        "    stopwords = set(stopwords.words('english'))\n",
        "\n",
        "\n",
        "\n",
        "\n",
        "class textProcesser():\n",
        "    def __init__(self, cfg: Config) -> None:\n",
        "        self.cfg = cfg\n",
        "\n",
        "        self.lemmatizer = cfg.lemmatizer\n",
        "        self.stemmer = cfg.stemmer\n",
        "        self.stop_words = cfg.stopwords\n",
        "\n",
        "        self.pos_tagger = cfg.pos_tagger\n",
        "\n",
        "\n",
        "    def clean(self, sentence: str) -> list[str]:\n",
        "        tokens = [sentence]\n",
        "        if self.cfg.tokenize:\n",
        "            tokens = nltk.word_tokenize(sentence)\n",
        "\n",
        "        if self.cfg.lemmatize:\n",
        "            tokens = [self.lemmatizer.lemmatize(token) for token in tokens]\n",
        "\n",
        "        if self.cfg.stem:\n",
        "            tokens = [self.stemmer.stem(token) for token in tokens]\n",
        "\n",
        "        if self.cfg.clean_text:\n",
        "                \n",
        "            tokens = [re.sub(self.cfg.regex, '', token.lower() if self.cfg.lower else token) for token in tokens]\n",
        "            tokens = [token for token in tokens if token and token not in self.stop_words]\n",
        "\n",
        "        if self.cfg.pos:\n",
        "            tokens_pos = pos_tag(tokens)\n",
        "            tokens, pos_tags = zip(*tokens_pos) if tokens_pos else ([], [])\n",
        "            return list(tokens), list(pos_tags)\n",
        "\n",
        "        return tokens, None\n",
        "    \n",
        "    def clean_text(self, json):\n",
        "        clean = {\n",
        "            'premise': {},\n",
        "            'premise_pos': {},\n",
        "            'hypothesis': {},\n",
        "            'hypothesis_pos': {},\n",
        "            'label': {}\n",
        "        }\n",
        "\n",
        "        for idx, key in enumerate(json['label'].keys()):\n",
        "            p_tokens, p_pos = self.clean(json['premise'][key])\n",
        "            h_tokens, h_pos = self.clean(json['hypothesis'][key])\n",
        "\n",
        "            if len(p_tokens) == 0 or len(h_tokens) == 0:\n",
        "                print(f\" Warning: Empty premise or hypothesis at index {idx} (key: {key}).\")\n",
        "\n",
        "            clean['label'][idx] = 0 if 'neutral' in json['label'][key] else 1\n",
        "            clean['premise'][idx] = p_tokens\n",
        "            clean['premise_pos'][idx] = p_pos\n",
        "            clean['hypothesis'][idx] = h_tokens\n",
        "            clean['hypothesis_pos'][idx] = h_pos\n",
        "\n",
        "        return clean"
      ]
    },
    {
      "cell_type": "code",
      "execution_count": 5,
      "metadata": {},
      "outputs": [
        {
          "name": "stdout",
          "output_type": "stream",
          "text": [
            " Warning: Empty premise or hypothesis at index 146 (key: 146).\n"
          ]
        },
        {
          "data": {
            "text/plain": [
              "([],\n",
              " ['take', 'earth', 'one', 'week', 'rotate', 'axis', 'seven', 'time'],\n",
              " 0,\n",
              " [],\n",
              " ['VB', 'NN', 'CD', 'NN', 'NN', 'VBD', 'CD', 'NN'])"
            ]
          },
          "execution_count": 5,
          "metadata": {},
          "output_type": "execute_result"
        }
      ],
      "source": [
        "cfg = Config()\n",
        "\n",
        "clean_train = textProcesser(cfg).clean_text(train)\n",
        "clean_val = textProcesser(cfg).clean_text(val)\n",
        "clean_test = textProcesser(cfg).clean_text(test)\n",
        "clean_train['premise'][146], clean_train['hypothesis'][146], clean_train['label'][146], clean_train['premise_pos'][146], clean_train['hypothesis_pos'][146]"
      ]
    },
    {
      "cell_type": "code",
      "execution_count": 6,
      "metadata": {},
      "outputs": [
        {
          "data": {
            "text/html": [
              "<div>\n",
              "<style scoped>\n",
              "    .dataframe tbody tr th:only-of-type {\n",
              "        vertical-align: middle;\n",
              "    }\n",
              "\n",
              "    .dataframe tbody tr th {\n",
              "        vertical-align: top;\n",
              "    }\n",
              "\n",
              "    .dataframe thead th {\n",
              "        text-align: right;\n",
              "    }\n",
              "</style>\n",
              "<table border=\"1\" class=\"dataframe\">\n",
              "  <thead>\n",
              "    <tr style=\"text-align: right;\">\n",
              "      <th></th>\n",
              "      <th>label</th>\n",
              "      <th>premise</th>\n",
              "      <th>hypothesis</th>\n",
              "      <th>premise_pos</th>\n",
              "      <th>hypothesis_pos</th>\n",
              "    </tr>\n",
              "  </thead>\n",
              "  <tbody>\n",
              "    <tr>\n",
              "      <th>0</th>\n",
              "      <td>0</td>\n",
              "      <td>[pluto, rotates, axis, every, 639, earth, day]</td>\n",
              "      <td>[earth, rotates, axis, time, one, day]</td>\n",
              "      <td>[NN, NNS, VBP, DT, CD, NN, NN]</td>\n",
              "      <td>[NN, VBZ, JJ, NN, CD, NN]</td>\n",
              "    </tr>\n",
              "    <tr>\n",
              "      <th>1</th>\n",
              "      <td>1</td>\n",
              "      <td>[--, -glenn, per, day, earth, rotates, axis]</td>\n",
              "      <td>[earth, rotates, axis, time, one, day]</td>\n",
              "      <td>[:, NN, IN, NN, NN, VBZ, IN]</td>\n",
              "      <td>[NN, VBZ, JJ, NN, CD, NN]</td>\n",
              "    </tr>\n",
              "    <tr>\n",
              "      <th>2</th>\n",
              "      <td>0</td>\n",
              "      <td>[geyser, -, periodic, gush, hot, water, surfac...</td>\n",
              "      <td>[surface, sun, much, hotter, almost, anything,...</td>\n",
              "      <td>[SYM, :, JJ, NN, JJ, NN, NN, NN]</td>\n",
              "      <td>[NN, NN, JJ, NN, RB, NN, JJ]</td>\n",
              "    </tr>\n",
              "    <tr>\n",
              "      <th>3</th>\n",
              "      <td>1</td>\n",
              "      <td>[facts, liquid, water, droplet, changed, invis...</td>\n",
              "      <td>[evaporation, responsible, changing, liquid, w...</td>\n",
              "      <td>[NNS, JJ, NN, NN, VBD, JJ, NN, NN, NN, VBN, NN]</td>\n",
              "      <td>[NN, JJ, VBG, JJ, NN, NN, NN]</td>\n",
              "    </tr>\n",
              "    <tr>\n",
              "      <th>4</th>\n",
              "      <td>1</td>\n",
              "      <td>[comparison, earth, rotates, axis, per, day, r...</td>\n",
              "      <td>[earth, rotates, axis, time, one, day]</td>\n",
              "      <td>[NN, NN, VBZ, JJ, IN, NN, VBZ, IN, NN, IN, NN]</td>\n",
              "      <td>[NN, VBZ, JJ, NN, CD, NN]</td>\n",
              "    </tr>\n",
              "  </tbody>\n",
              "</table>\n",
              "</div>"
            ],
            "text/plain": [
              "   label                                            premise  \\\n",
              "0      0     [pluto, rotates, axis, every, 639, earth, day]   \n",
              "1      1       [--, -glenn, per, day, earth, rotates, axis]   \n",
              "2      0  [geyser, -, periodic, gush, hot, water, surfac...   \n",
              "3      1  [facts, liquid, water, droplet, changed, invis...   \n",
              "4      1  [comparison, earth, rotates, axis, per, day, r...   \n",
              "\n",
              "                                          hypothesis  \\\n",
              "0             [earth, rotates, axis, time, one, day]   \n",
              "1             [earth, rotates, axis, time, one, day]   \n",
              "2  [surface, sun, much, hotter, almost, anything,...   \n",
              "3  [evaporation, responsible, changing, liquid, w...   \n",
              "4             [earth, rotates, axis, time, one, day]   \n",
              "\n",
              "                                       premise_pos  \\\n",
              "0                   [NN, NNS, VBP, DT, CD, NN, NN]   \n",
              "1                     [:, NN, IN, NN, NN, VBZ, IN]   \n",
              "2                 [SYM, :, JJ, NN, JJ, NN, NN, NN]   \n",
              "3  [NNS, JJ, NN, NN, VBD, JJ, NN, NN, NN, VBN, NN]   \n",
              "4   [NN, NN, VBZ, JJ, IN, NN, VBZ, IN, NN, IN, NN]   \n",
              "\n",
              "                  hypothesis_pos  \n",
              "0      [NN, VBZ, JJ, NN, CD, NN]  \n",
              "1      [NN, VBZ, JJ, NN, CD, NN]  \n",
              "2   [NN, NN, JJ, NN, RB, NN, JJ]  \n",
              "3  [NN, JJ, VBG, JJ, NN, NN, NN]  \n",
              "4      [NN, VBZ, JJ, NN, CD, NN]  "
            ]
          },
          "execution_count": 6,
          "metadata": {},
          "output_type": "execute_result"
        }
      ],
      "source": [
        "import pandas as pd\n",
        "train_df = pd.DataFrame({\n",
        "    \"label\": clean_train[\"label\"],\n",
        "    \"premise\": clean_train[\"premise\"],\n",
        "    \"hypothesis\": clean_train[\"hypothesis\"],\n",
        "    \"premise_pos\": clean_train[\"premise_pos\"],\n",
        "    \"hypothesis_pos\": clean_train[\"hypothesis_pos\"]\n",
        "})\n",
        "\n",
        "val_df = pd.DataFrame({\n",
        "    \"label\": clean_val[\"label\"],\n",
        "    \"premise\": clean_val[\"premise\"],\n",
        "    \"hypothesis\": clean_val[\"hypothesis\"],\n",
        "    \"premise_pos\": clean_val[\"premise_pos\"],\n",
        "    \"hypothesis_pos\": clean_val[\"hypothesis_pos\"]\n",
        "})\n",
        "\n",
        "test_df = pd.DataFrame({\n",
        "    \"label\": clean_test[\"label\"],\n",
        "    \"premise\": clean_test[\"premise\"],\n",
        "    \"hypothesis\": clean_test[\"hypothesis\"],\n",
        "    \"premise_pos\": clean_test[\"premise_pos\"],\n",
        "    \"hypothesis_pos\": clean_test[\"hypothesis_pos\"]\n",
        "})\n",
        "\n",
        "train_df = train_df.reset_index(drop=True)\n",
        "train_df.head()"
      ]
    },
    {
      "cell_type": "code",
      "execution_count": 7,
      "metadata": {},
      "outputs": [
        {
          "data": {
            "image/png": "[encoded data removed]",
            "text/plain": [
              "<Figure size 1500x400 with 3 Axes>"
            ]
          },
          "metadata": {},
          "output_type": "display_data"
        }
      ],
      "source": [
        "import matplotlib.pyplot as plt\n",
        "import seaborn as sns\n",
        "\n",
        "splits = [('Train', train_df), ('Validation', val_df), ('Test', test_df)]\n",
        "colors = ['skyblue', 'salmon', 'lightgreen']  # one color per split\n",
        "\n",
        "plt.figure(figsize=(15,4))\n",
        "\n",
        "for i, ((name, df), color) in enumerate(zip(splits, colors), 1):\n",
        "    plt.subplot(1, 3, i)\n",
        "    counts = df['label'].value_counts().sort_index()\n",
        "    sns.barplot(x=['Neutral', 'Entails'], y=counts.values, color=color)\n",
        "    plt.title(f\"{name} Set\")\n",
        "    plt.xlabel(\"Label\")\n",
        "    plt.ylabel(\"Count\")\n",
        "\n",
        "plt.tight_layout()\n",
        "plt.show()\n"
      ]
    },
    {
      "cell_type": "code",
      "execution_count": 80,
      "metadata": {},
      "outputs": [
        {
          "data": {
            "text/plain": [
              "37"
            ]
          },
          "execution_count": 80,
          "metadata": {},
          "output_type": "execute_result"
        }
      ],
      "source": [
        "# Build pos2idx from training set only\n",
        "all_pos_tags = set()\n",
        "for pos_list in train_df['premise_pos']:\n",
        "    all_pos_tags.update(pos_list)\n",
        "for pos_list in train_df['hypothesis_pos']:\n",
        "    all_pos_tags.update(pos_list)\n",
        "\n",
        "# Add a special <UNK> token\n",
        "pos2idx = {pos: i for i, pos in enumerate(sorted(all_pos_tags))}\n",
        "pos2idx['<UNK>'] = len(pos2idx)\n",
        "num_pos_tags = len(pos2idx)\n",
        "\n",
        "def encode_pos(pos_list, pos2idx):\n",
        "    return [pos2idx.get(pos, pos2idx['<UNK>']) for pos in pos_list]\n",
        "\n",
        "\n",
        "len(pos2idx)\n"
      ]
    },
    {
      "cell_type": "code",
      "execution_count": 23,
      "metadata": {},
      "outputs": [],
      "source": [
        "import torch\n",
        "import torch.nn as nn\n",
        "from torch.utils.data import Dataset,  DataLoader\n",
        "\n",
        "class nliDataset(Dataset):\n",
        "  def __init__(self, df, embed_model, pos_embed_model=None):\n",
        "    self.df = df\n",
        "    self.embed_model = embed_model\n",
        "    self.pos_encode = encode_pos\n",
        "\n",
        "  def __len__(self):\n",
        "    return len(self.df)\n",
        "\n",
        "  def __getitem__(self, index):\n",
        "    premise = self.df[\"premise\"].iloc[index]\n",
        "    hypothesis = self.df[\"hypothesis\"].iloc[index]\n",
        "    p_embed = np.array([self.embed_model.wv[word] for word in premise if word in self.embed_model.wv])\n",
        "    h_embed = np.array([self.embed_model.wv[word] for word in hypothesis if word in self.embed_model.wv])\n",
        "\n",
        "    if len(p_embed) == 0:\n",
        "        p_embed = np.zeros((1, self.embed_model.vector_size))\n",
        "    if len(h_embed) == 0:\n",
        "        h_embed = np.zeros((1, self.embed_model.vector_size))\n",
        "    \n",
        "\n",
        "    premise_pos = self.df[\"premise_pos\"].iloc[index]\n",
        "    hypothesis_pos = self.df[\"hypothesis_pos\"].iloc[index]\n",
        "\n",
        "    premise_pos = torch.tensor(self.pos_encode(premise_pos, pos2idx), dtype=torch.long)\n",
        "    hypothesis_pos = torch.tensor(self.pos_encode(hypothesis_pos, pos2idx), dtype=torch.long)\n",
        "\n",
        "\n",
        "    label = int(self.df[\"label\"].iloc[index])\n",
        "    p_embed = torch.tensor(p_embed, dtype=torch.float32)\n",
        "    h_embed = torch.tensor(h_embed, dtype=torch.float32)\n",
        "    label = torch.tensor(label, dtype=torch.float32).unsqueeze(0)\n",
        "    \n",
        "    sample = {\n",
        "        \"p_embed\": p_embed,\n",
        "        \"h_embed\": h_embed,\n",
        "        \"label\": label,\n",
        "        \"premise_pos\": premise_pos,\n",
        "        \"hypothesis_pos\": hypothesis_pos\n",
        "    }\n",
        "\n",
        "    return sample\n"
      ]
    },
    {
      "cell_type": "code",
      "execution_count": 85,
      "metadata": {},
      "outputs": [],
      "source": [
        "import torch\n",
        "from torch.nn.utils.rnn import pad_sequence\n",
        "def collate_fn(batch):\n",
        "    p_embeds = [item[\"p_embed\"] for item in batch]\n",
        "    h_embeds = [item[\"h_embed\"] for item in batch]\n",
        "    p_pos_idx = [item[\"premise_pos\"] for item in batch]\n",
        "    h_pos_idx = [item[\"hypothesis_pos\"] for item in batch]\n",
        "    labels = [item[\"label\"] for item in batch]\n",
        "\n",
        "    # Get max lengths from word embeddings\n",
        "    max_len_px = max([x.shape[0] for x in p_embeds])\n",
        "    max_len_hx = max([x.shape[0] for x in h_embeds])\n",
        "\n",
        "    # Pad word embeddings\n",
        "    p_padded = pad_sequence(p_embeds, batch_first=True)  # shape: [B, max_len_px, emb_dim]\n",
        "    h_padded = pad_sequence(h_embeds, batch_first=True)  # shape: [B, max_len_hx, emb_dim]\n",
        "\n",
        "    # Pad POS indices **to match word embeddings**\n",
        "    p_pos_padded = torch.stack([\n",
        "        torch.cat([x, torch.zeros(max_len_px - x.shape[0], dtype=torch.long)]) if x.shape[0] < max_len_px else x\n",
        "        for x in p_pos_idx\n",
        "    ])\n",
        "    h_pos_padded = torch.stack([\n",
        "        torch.cat([x, torch.zeros(max_len_hx - x.shape[0], dtype=torch.long)]) if x.shape[0] < max_len_hx else x\n",
        "        for x in h_pos_idx\n",
        "    ])\n",
        "\n",
        "    labels = torch.stack(labels)\n",
        "    plengths = torch.tensor([x.shape[0] for x in p_embeds])\n",
        "    hlengths = torch.tensor([x.shape[0] for x in h_embeds])\n",
        "\n",
        "    return {\n",
        "        \"p_embed\": p_padded,\n",
        "        \"h_embed\": h_padded,\n",
        "        \"p_pos\": p_pos_padded,\n",
        "        \"h_pos\": h_pos_padded,\n",
        "        \"label\": labels,\n",
        "        \"p_lengths\": plengths,\n",
        "        \"h_lengths\": hlengths\n",
        "    }\n",
        "\n"
      ]
    },
    {
      "cell_type": "code",
      "execution_count": 11,
      "metadata": {},
      "outputs": [],
      "source": [
        "from gensim.models import Word2Vec\n",
        "sentences = list(clean_train['premise'].values()) + list(clean_train['hypothesis'].values())\n",
        "embed_model = Word2Vec(sentences=sentences, vector_size=200, window=10, min_count=3, workers=2, sg=1)"
      ]
    },
    {
      "cell_type": "code",
      "execution_count": 86,
      "metadata": {},
      "outputs": [
        {
          "data": {
            "text/plain": [
              "(2886, 163, 266)"
            ]
          },
          "execution_count": 86,
          "metadata": {},
          "output_type": "execute_result"
        }
      ],
      "source": [
        "train_db = nliDataset(train_df, embed_model=embed_model)\n",
        "trainloader = DataLoader(train_db, batch_size=8, shuffle=True, collate_fn=collate_fn)\n",
        "val_db = nliDataset(val_df, embed_model=embed_model)\n",
        "valloader = DataLoader(val_db, batch_size=8, shuffle=True, collate_fn=collate_fn)\n",
        "test_db = nliDataset(test_df, embed_model=embed_model)\n",
        "testloader = DataLoader(test_db, batch_size=8, shuffle=True, collate_fn=collate_fn)\n",
        "\n",
        "len(trainloader), len(valloader), len(testloader)"
      ]
    },
    {
      "cell_type": "markdown",
      "metadata": {
        "id": "1FA2ao2l8hOg"
      },
      "source": [
        "# 2. Model Implementation\n",
        "(You can add as many code blocks and text blocks as you need. However, YOU SHOULD NOT MODIFY the section title)"
      ]
    },
    {
      "cell_type": "markdown",
      "metadata": {},
      "source": [
        "## Task"
      ]
    },
    {
      "cell_type": "code",
      "execution_count": 87,
      "metadata": {},
      "outputs": [],
      "source": [
        "from collections import Counter\n",
        "from torch.utils.data import WeightedRandomSampler\n",
        "from tqdm import tqdm\n",
        "\n",
        "class Task():\n",
        "  def __init__(self, model, \n",
        "                train_df, \n",
        "                val_df, \n",
        "                save_path, \n",
        "                collate_fn=collate_fn, \n",
        "                optimizer=None,\n",
        "                loss_fn=None,\n",
        "                device=\"cpu\", \n",
        "                batch_size=16, \n",
        "                weighted_sampling=False) -> None:\n",
        "\n",
        "    self.train_df = train_df\n",
        "    self.val_df = val_df\n",
        "\n",
        "    self.optimizer = optimizer\n",
        "    self.loss_fn = loss_fn\n",
        "\n",
        "    self.save_path = save_path\n",
        "\n",
        "    if weighted_sampling:\n",
        "      labels = train_df['label'].values\n",
        "      class_counts = Counter(labels)\n",
        "      num_samples = len(labels)\n",
        "      class_weights = {cls: num_samples/count for cls, count in class_counts.items()}\n",
        "      sample_weights = [class_weights[label] for label in labels]\n",
        "      sampler = WeightedRandomSampler(sample_weights, num_samples=num_samples, replacement=True)\n",
        "    else:\n",
        "      sampler = None\n",
        "    \n",
        "    train_db = nliDataset(train_df, embed_model=embed_model)\n",
        "    val_db = nliDataset(val_df, embed_model=embed_model)\n",
        "\n",
        "    self.train_loader = DataLoader(train_db, batch_size=batch_size, sampler=sampler, shuffle=True, collate_fn=collate_fn)\n",
        "    self.val_loader = DataLoader(val_db, batch_size=batch_size, shuffle=False, collate_fn=collate_fn)\n",
        "\n",
        "    self.model = model\n",
        "    self.device = device\n",
        "\n",
        "\n",
        "    self.model = model.to(device)\n",
        "\n",
        "    self.losses = {}\n",
        "    self.losses[\"train\"] = []\n",
        "    self.losses[\"val\"] = []\n",
        "\n",
        "  def train_epoch(self):\n",
        "    self.model.train()\n",
        "    epoch_loss = 0\n",
        "    for batch in tqdm(self.train_loader, total=len(self.train_loader), desc=\"Training\"):\n",
        "        \n",
        "        p_padded = batch[\"p_embed\"]\n",
        "        h_padded = batch[\"h_embed\"]\n",
        "        labels = batch[\"label\"]\n",
        "        p_lengths = batch[\"p_lengths\"]\n",
        "        h_lengths = batch[\"h_lengths\"]\n",
        "\n",
        "        premise_pos = batch[\"p_pos\"]\n",
        "        hypothesis_pos = batch[\"h_pos\"]\n",
        "      \n",
        "\n",
        "        p_padded = p_padded.to(self.device)\n",
        "        h_padded = h_padded.to(self.device)\n",
        "        labels = labels.to(self.device)\n",
        "\n",
        "        outputs = self.model(p_padded, h_padded, p_lengths, h_lengths, premise_pos, hypothesis_pos)\n",
        "\n",
        "        loss = self.loss_fn(outputs, labels)\n",
        "\n",
        "        self.optimizer.zero_grad()\n",
        "        loss.backward()\n",
        "        self.optimizer.step()\n",
        "\n",
        "        epoch_loss += loss.item()\n",
        "\n",
        "    epoch_loss /= len(self.train_loader)\n",
        "    return epoch_loss\n",
        "  \n",
        "\n",
        "  def validate_epoch(self):\n",
        "    self.model.eval()\n",
        "    with torch.no_grad():\n",
        "        val_loss = 0\n",
        "        correct = 0\n",
        "        total = 0\n",
        "\n",
        "        for batch in tqdm(self.val_loader, total=len(self.val_loader), desc=\"Validating\"):\n",
        "            \n",
        "          p_padded = batch[\"p_embed\"]\n",
        "          h_padded = batch[\"h_embed\"]\n",
        "          labels = batch[\"label\"]\n",
        "          p_lengths = batch[\"p_lengths\"]\n",
        "          h_lengths = batch[\"h_lengths\"]\n",
        "\n",
        "          premise_pos = batch[\"p_pos\"]\n",
        "          hypothesis_pos = batch[\"h_pos\"]\n",
        "        \n",
        "\n",
        "          p_padded = p_padded.to(self.device)\n",
        "          h_padded = h_padded.to(self.device)\n",
        "          labels = labels.to(self.device)\n",
        "\n",
        "          outputs = self.model(p_padded, h_padded, p_lengths, h_lengths, premise_pos, hypothesis_pos)\n",
        "          loss = self.loss_fn(outputs, labels)\n",
        "          val_loss += loss.item()\n",
        "\n",
        "          _, predicted = torch.max(outputs, dim=1)\n",
        "\n",
        "          correct += (predicted == labels.squeeze()).sum().item()\n",
        "          total += labels.size(0)\n",
        "\n",
        "        val_loss /= len(self.val_loader)\n",
        "        accuracy = correct / total\n",
        "    return val_loss, accuracy\n",
        "     \n",
        "\n",
        "  def fit(self, epochs, restore_best=True):\n",
        "    best_val_loss = float('inf')\n",
        "    for epoch in range(epochs):\n",
        "        train_loss = self.train_epoch()\n",
        "        val_loss, val_acc = self.validate_epoch()\n",
        "\n",
        "        self.losses[\"train\"].append(train_loss)\n",
        "        self.losses[\"val\"].append(val_loss)\n",
        "\n",
        "        print(f\"Epoch {epoch+1}/{epochs}, Train Loss: {train_loss:.4f}, Val Loss: {val_loss:.4f}, Val Acc: {val_acc:.4f}\")\n",
        "        if val_loss < best_val_loss:\n",
        "            best_val_loss = val_loss\n",
        "            torch.save(self.model.state_dict(), self.save_path)\n",
        "            print(f\"Model saved to {self.save_path}\")\n",
        "\n",
        "    print(\"Training complete.\")\n",
        "    if restore_best:\n",
        "      print(\"Restoring best model weights.\")\n",
        "      self.model.load_state_dict(torch.load(self.save_path))\n",
        "    return self.losses\n",
        "\n",
        "\n"
      ]
    },
    {
      "cell_type": "markdown",
      "metadata": {},
      "source": [
        "## BiLSTM"
      ]
    },
    {
      "cell_type": "code",
      "execution_count": null,
      "metadata": {
        "id": "QIEqDDT78q39"
      },
      "outputs": [],
      "source": [
        "from torch.nn.utils.rnn import pack_padded_sequence, pad_packed_sequence\n",
        "\n",
        "class twin_LSTM(nn.Module):\n",
        "    def __init__(self, input_size=100, hidden_size=128, output_size=1, \n",
        "                 dropout=0.5, bidirectional=True, n_layers=3,\n",
        "                 pos_vocab_size=None, pos_emb_dim=16):\n",
        "        super().__init__()\n",
        "        self.hidden_size = hidden_size\n",
        "        self.bidirectional = bidirectional\n",
        "\n",
        "        # Word + POS embeddings combined\n",
        "        self.pos_embedding = nn.Embedding(pos_vocab_size, pos_emb_dim) if pos_vocab_size else None\n",
        "        combined_input_size = input_size + (pos_emb_dim if pos_vocab_size else 0)\n",
        "\n",
        "        self.px_lstm = nn.LSTM(combined_input_size, self.hidden_size, \n",
        "                               num_layers=n_layers, bidirectional=bidirectional, batch_first=True)\n",
        "        self.hx_lstm = nn.LSTM(combined_input_size, self.hidden_size, \n",
        "                               num_layers=n_layers, bidirectional=bidirectional, batch_first=True)\n",
        "\n",
        "        self.fc = nn.Sequential(\n",
        "            nn.Dropout(dropout),\n",
        "            nn.Linear(self.hidden_size * 2 * (2 if bidirectional else 1), output_size),\n",
        "        )\n",
        "\n",
        "    def forward(self, px, hx, plengths=None, hlengths=None, p_pos_idx=None, h_pos_idx=None):\n",
        "        # Add POS embeddings if provided\n",
        "        if self.pos_embedding is not None and p_pos_idx is not None and h_pos_idx is not None:\n",
        "            print(\"POS embeddings added.\")\n",
        "            p_pos_emb = self.pos_embedding(p_pos_idx)\n",
        "            h_pos_emb = self.pos_embedding(h_pos_idx)\n",
        "\n",
        "            print(f\"p_pos_emb shape: {p_pos_emb.shape}, h_pos_emb shape: {h_pos_emb.shape}\")\n",
        "            print(f\"px shape before concat: {px.shape}, hx shape before concat: {hx.shape}\")\n",
        "\n",
        "            px = torch.cat([px, p_pos_emb], dim=2)\n",
        "            hx = torch.cat([hx, h_pos_emb], dim=2)\n",
        "\n",
        "        # Pack sequences\n",
        "        packed_px = pack_padded_sequence(px, plengths.cpu(), batch_first=True, enforce_sorted=False)\n",
        "        px_output, (px_hn, _) = self.px_lstm(packed_px)\n",
        "\n",
        "        packed_hx = pack_padded_sequence(hx, hlengths.cpu(), batch_first=True, enforce_sorted=False)\n",
        "        hx_output, (hx_hn, _) = self.hx_lstm(packed_hx)\n",
        "\n",
        "        # Take last hidden state(s)\n",
        "        if self.bidirectional:\n",
        "            px_out = torch.cat([px_hn[-2], px_hn[-1]], dim=1)\n",
        "            hx_out = torch.cat([hx_hn[-2], hx_hn[-1]], dim=1)\n",
        "        else:\n",
        "            px_out = px_hn[-1]\n",
        "            hx_out = hx_hn[-1]\n",
        "\n",
        "        out = self.fc(torch.cat([px_out, hx_out], dim=1))\n",
        "        return out\n"
      ]
    },
    {
      "cell_type": "code",
      "execution_count": 94,
      "metadata": {},
      "outputs": [],
      "source": [
        "\n",
        "pos_vocab_size = len(pos2idx) \n",
        "pos_emb_dim = 32              \n",
        "\n",
        "model = twin_LSTM(\n",
        "    input_size=embed_model.vector_size,\n",
        "    hidden_size=128,\n",
        "    output_size=1,\n",
        "    dropout=0.5,\n",
        "    bidirectional=True,\n",
        "    n_layers=2,\n",
        "    pos_vocab_size=pos_vocab_size,\n",
        "    pos_emb_dim=pos_emb_dim\n",
        ")\n",
        "\n",
        "task = Task(\n",
        "    model=model,\n",
        "    train_df=train_df,\n",
        "    val_df=val_df,\n",
        "    save_path=\"best_model.pth\",\n",
        "    optimizer=torch.optim.Adam(model.parameters(), lr=0.001),\n",
        "    loss_fn=nn.BCEWithLogitsLoss(),\n",
        "    device=\"cuda\" if torch.cuda.is_available() else \"cpu\",\n",
        "    batch_size=8,\n",
        "    weighted_sampling=False\n",
        ")\n",
        "\n"
      ]
    },
    {
      "cell_type": "code",
      "execution_count": 95,
      "metadata": {},
      "outputs": [
        {
          "name": "stderr",
          "output_type": "stream",
          "text": [
            "Validating:   0%|          | 0/163 [00:00<?, ?it/s]"
          ]
        },
        {
          "name": "stdout",
          "output_type": "stream",
          "text": [
            "POS embeddings added.\n",
            "p_pos_emb shape: torch.Size([8, 10, 32]), h_pos_emb shape: torch.Size([8, 8, 32])\n",
            "px shape before concat: torch.Size([8, 10, 200]), hx shape before concat: torch.Size([8, 8, 200])\n"
          ]
        },
        {
          "name": "stderr",
          "output_type": "stream",
          "text": [
            "\n"
          ]
        },
        {
          "ename": "RuntimeError",
          "evalue": "Sizes of tensors must match except in dimension 1. Expected size 200 but got size 32 for tensor number 1 in the list.",
          "output_type": "error",
          "traceback": [
            "\u001b[31m---------------------------------------------------------------------------\u001b[39m",
            "\u001b[31mRuntimeError\u001b[39m                              Traceback (most recent call last)",
            "\u001b[36mCell\u001b[39m\u001b[36m \u001b[39m\u001b[32mIn[95]\u001b[39m\u001b[32m, line 1\u001b[39m\n\u001b[32m----> \u001b[39m\u001b[32m1\u001b[39m \u001b[43mtask\u001b[49m\u001b[43m.\u001b[49m\u001b[43mvalidate_epoch\u001b[49m\u001b[43m(\u001b[49m\u001b[43m)\u001b[49m\n",
            "\u001b[36mCell\u001b[39m\u001b[36m \u001b[39m\u001b[32mIn[87]\u001b[39m\u001b[32m, line 107\u001b[39m, in \u001b[36mTask.validate_epoch\u001b[39m\u001b[34m(self)\u001b[39m\n\u001b[32m    104\u001b[39m h_padded = h_padded.to(\u001b[38;5;28mself\u001b[39m.device)\n\u001b[32m    105\u001b[39m labels = labels.to(\u001b[38;5;28mself\u001b[39m.device)\n\u001b[32m--> \u001b[39m\u001b[32m107\u001b[39m outputs = \u001b[38;5;28;43mself\u001b[39;49m\u001b[43m.\u001b[49m\u001b[43mmodel\u001b[49m\u001b[43m(\u001b[49m\u001b[43mp_padded\u001b[49m\u001b[43m,\u001b[49m\u001b[43m \u001b[49m\u001b[43mh_padded\u001b[49m\u001b[43m,\u001b[49m\u001b[43m \u001b[49m\u001b[43mp_lengths\u001b[49m\u001b[43m,\u001b[49m\u001b[43m \u001b[49m\u001b[43mh_lengths\u001b[49m\u001b[43m,\u001b[49m\u001b[43m \u001b[49m\u001b[43mpremise_pos\u001b[49m\u001b[43m,\u001b[49m\u001b[43m \u001b[49m\u001b[43mhypothesis_pos\u001b[49m\u001b[43m)\u001b[49m\n\u001b[32m    108\u001b[39m loss = \u001b[38;5;28mself\u001b[39m.loss_fn(outputs, labels)\n\u001b[32m    109\u001b[39m val_loss += loss.item()\n",
            "\u001b[36mFile \u001b[39m\u001b[32mc:\\Natural-Language-Processing\\venv\\Lib\\site-packages\\torch\\nn\\modules\\module.py:1773\u001b[39m, in \u001b[36mModule._wrapped_call_impl\u001b[39m\u001b[34m(self, *args, **kwargs)\u001b[39m\n\u001b[32m   1771\u001b[39m     \u001b[38;5;28;01mreturn\u001b[39;00m \u001b[38;5;28mself\u001b[39m._compiled_call_impl(*args, **kwargs)  \u001b[38;5;66;03m# type: ignore[misc]\u001b[39;00m\n\u001b[32m   1772\u001b[39m \u001b[38;5;28;01melse\u001b[39;00m:\n\u001b[32m-> \u001b[39m\u001b[32m1773\u001b[39m     \u001b[38;5;28;01mreturn\u001b[39;00m \u001b[38;5;28;43mself\u001b[39;49m\u001b[43m.\u001b[49m\u001b[43m_call_impl\u001b[49m\u001b[43m(\u001b[49m\u001b[43m*\u001b[49m\u001b[43margs\u001b[49m\u001b[43m,\u001b[49m\u001b[43m \u001b[49m\u001b[43m*\u001b[49m\u001b[43m*\u001b[49m\u001b[43mkwargs\u001b[49m\u001b[43m)\u001b[49m\n",
            "\u001b[36mFile \u001b[39m\u001b[32mc:\\Natural-Language-Processing\\venv\\Lib\\site-packages\\torch\\nn\\modules\\module.py:1784\u001b[39m, in \u001b[36mModule._call_impl\u001b[39m\u001b[34m(self, *args, **kwargs)\u001b[39m\n\u001b[32m   1779\u001b[39m \u001b[38;5;66;03m# If we don't have any hooks, we want to skip the rest of the logic in\u001b[39;00m\n\u001b[32m   1780\u001b[39m \u001b[38;5;66;03m# this function, and just call forward.\u001b[39;00m\n\u001b[32m   1781\u001b[39m \u001b[38;5;28;01mif\u001b[39;00m \u001b[38;5;129;01mnot\u001b[39;00m (\u001b[38;5;28mself\u001b[39m._backward_hooks \u001b[38;5;129;01mor\u001b[39;00m \u001b[38;5;28mself\u001b[39m._backward_pre_hooks \u001b[38;5;129;01mor\u001b[39;00m \u001b[38;5;28mself\u001b[39m._forward_hooks \u001b[38;5;129;01mor\u001b[39;00m \u001b[38;5;28mself\u001b[39m._forward_pre_hooks\n\u001b[32m   1782\u001b[39m         \u001b[38;5;129;01mor\u001b[39;00m _global_backward_pre_hooks \u001b[38;5;129;01mor\u001b[39;00m _global_backward_hooks\n\u001b[32m   1783\u001b[39m         \u001b[38;5;129;01mor\u001b[39;00m _global_forward_hooks \u001b[38;5;129;01mor\u001b[39;00m _global_forward_pre_hooks):\n\u001b[32m-> \u001b[39m\u001b[32m1784\u001b[39m     \u001b[38;5;28;01mreturn\u001b[39;00m \u001b[43mforward_call\u001b[49m\u001b[43m(\u001b[49m\u001b[43m*\u001b[49m\u001b[43margs\u001b[49m\u001b[43m,\u001b[49m\u001b[43m \u001b[49m\u001b[43m*\u001b[49m\u001b[43m*\u001b[49m\u001b[43mkwargs\u001b[49m\u001b[43m)\u001b[49m\n\u001b[32m   1786\u001b[39m result = \u001b[38;5;28;01mNone\u001b[39;00m\n\u001b[32m   1787\u001b[39m called_always_called_hooks = \u001b[38;5;28mset\u001b[39m()\n",
            "\u001b[36mCell\u001b[39m\u001b[36m \u001b[39m\u001b[32mIn[91]\u001b[39m\u001b[32m, line 35\u001b[39m, in \u001b[36mtwin_LSTM.forward\u001b[39m\u001b[34m(self, px, hx, plengths, hlengths, p_pos_idx, h_pos_idx)\u001b[39m\n\u001b[32m     32\u001b[39m     \u001b[38;5;28mprint\u001b[39m(\u001b[33mf\u001b[39m\u001b[33m\"\u001b[39m\u001b[33mp_pos_emb shape: \u001b[39m\u001b[38;5;132;01m{\u001b[39;00mp_pos_emb.shape\u001b[38;5;132;01m}\u001b[39;00m\u001b[33m, h_pos_emb shape: \u001b[39m\u001b[38;5;132;01m{\u001b[39;00mh_pos_emb.shape\u001b[38;5;132;01m}\u001b[39;00m\u001b[33m\"\u001b[39m)\n\u001b[32m     33\u001b[39m     \u001b[38;5;28mprint\u001b[39m(\u001b[33mf\u001b[39m\u001b[33m\"\u001b[39m\u001b[33mpx shape before concat: \u001b[39m\u001b[38;5;132;01m{\u001b[39;00mpx.shape\u001b[38;5;132;01m}\u001b[39;00m\u001b[33m, hx shape before concat: \u001b[39m\u001b[38;5;132;01m{\u001b[39;00mhx.shape\u001b[38;5;132;01m}\u001b[39;00m\u001b[33m\"\u001b[39m)\n\u001b[32m---> \u001b[39m\u001b[32m35\u001b[39m     px = \u001b[43mtorch\u001b[49m\u001b[43m.\u001b[49m\u001b[43mcat\u001b[49m\u001b[43m(\u001b[49m\u001b[43m[\u001b[49m\u001b[43mpx\u001b[49m\u001b[43m,\u001b[49m\u001b[43m \u001b[49m\u001b[43mp_pos_emb\u001b[49m\u001b[43m]\u001b[49m\u001b[43m,\u001b[49m\u001b[43m \u001b[49m\u001b[43mdim\u001b[49m\u001b[43m=\u001b[49m\u001b[32;43m1\u001b[39;49m\u001b[43m)\u001b[49m\n\u001b[32m     36\u001b[39m     hx = torch.cat([hx, h_pos_emb], dim=\u001b[32m1\u001b[39m)\n\u001b[32m     38\u001b[39m \u001b[38;5;66;03m# Pack sequences\u001b[39;00m\n",
            "\u001b[31mRuntimeError\u001b[39m: Sizes of tensors must match except in dimension 1. Expected size 200 but got size 32 for tensor number 1 in the list."
          ]
        }
      ],
      "source": [
        "task.validate_epoch()"
      ]
    },
    {
      "cell_type": "code",
      "execution_count": null,
      "metadata": {},
      "outputs": [
        {
          "name": "stderr",
          "output_type": "stream",
          "text": [
            "Training:  10%|█         | 298/2886 [01:51<16:09,  2.67it/s]  \n"
          ]
        },
        {
          "ename": "KeyboardInterrupt",
          "evalue": "",
          "output_type": "error",
          "traceback": [
            "\u001b[31m---------------------------------------------------------------------------\u001b[39m",
            "\u001b[31mKeyboardInterrupt\u001b[39m                         Traceback (most recent call last)",
            "\u001b[36mCell\u001b[39m\u001b[36m \u001b[39m\u001b[32mIn[70]\u001b[39m\u001b[32m, line 1\u001b[39m\n\u001b[32m----> \u001b[39m\u001b[32m1\u001b[39m \u001b[43mtask\u001b[49m\u001b[43m.\u001b[49m\u001b[43mfit\u001b[49m\u001b[43m(\u001b[49m\u001b[43mepochs\u001b[49m\u001b[43m=\u001b[49m\u001b[32;43m3\u001b[39;49m\u001b[43m)\u001b[49m\n",
            "\u001b[36mCell\u001b[39m\u001b[36m \u001b[39m\u001b[32mIn[65]\u001b[39m\u001b[32m, line 124\u001b[39m, in \u001b[36mTask.fit\u001b[39m\u001b[34m(self, epochs, restore_best)\u001b[39m\n\u001b[32m    122\u001b[39m best_val_loss = \u001b[38;5;28mfloat\u001b[39m(\u001b[33m'\u001b[39m\u001b[33minf\u001b[39m\u001b[33m'\u001b[39m)\n\u001b[32m    123\u001b[39m \u001b[38;5;28;01mfor\u001b[39;00m epoch \u001b[38;5;129;01min\u001b[39;00m \u001b[38;5;28mrange\u001b[39m(epochs):\n\u001b[32m--> \u001b[39m\u001b[32m124\u001b[39m     train_loss = \u001b[38;5;28;43mself\u001b[39;49m\u001b[43m.\u001b[49m\u001b[43mtrain_epoch\u001b[49m\u001b[43m(\u001b[49m\u001b[43m)\u001b[49m\n\u001b[32m    125\u001b[39m     val_loss, val_acc = \u001b[38;5;28mself\u001b[39m.validate_epoch()\n\u001b[32m    127\u001b[39m     \u001b[38;5;28mself\u001b[39m.losses[\u001b[33m\"\u001b[39m\u001b[33mtrain\u001b[39m\u001b[33m\"\u001b[39m].append(train_loss)\n",
            "\u001b[36mCell\u001b[39m\u001b[36m \u001b[39m\u001b[32mIn[65]\u001b[39m\u001b[32m, line 75\u001b[39m, in \u001b[36mTask.train_epoch\u001b[39m\u001b[34m(self)\u001b[39m\n\u001b[32m     72\u001b[39m loss = \u001b[38;5;28mself\u001b[39m.loss_fn(outputs, labels)\n\u001b[32m     74\u001b[39m \u001b[38;5;28mself\u001b[39m.optimizer.zero_grad()\n\u001b[32m---> \u001b[39m\u001b[32m75\u001b[39m \u001b[43mloss\u001b[49m\u001b[43m.\u001b[49m\u001b[43mbackward\u001b[49m\u001b[43m(\u001b[49m\u001b[43m)\u001b[49m\n\u001b[32m     76\u001b[39m \u001b[38;5;28mself\u001b[39m.optimizer.step()\n\u001b[32m     78\u001b[39m epoch_loss += loss.item()\n",
            "\u001b[36mFile \u001b[39m\u001b[32mc:\\Natural-Language-Processing\\venv\\Lib\\site-packages\\torch\\_tensor.py:647\u001b[39m, in \u001b[36mTensor.backward\u001b[39m\u001b[34m(self, gradient, retain_graph, create_graph, inputs)\u001b[39m\n\u001b[32m    637\u001b[39m \u001b[38;5;28;01mif\u001b[39;00m has_torch_function_unary(\u001b[38;5;28mself\u001b[39m):\n\u001b[32m    638\u001b[39m     \u001b[38;5;28;01mreturn\u001b[39;00m handle_torch_function(\n\u001b[32m    639\u001b[39m         Tensor.backward,\n\u001b[32m    640\u001b[39m         (\u001b[38;5;28mself\u001b[39m,),\n\u001b[32m   (...)\u001b[39m\u001b[32m    645\u001b[39m         inputs=inputs,\n\u001b[32m    646\u001b[39m     )\n\u001b[32m--> \u001b[39m\u001b[32m647\u001b[39m \u001b[43mtorch\u001b[49m\u001b[43m.\u001b[49m\u001b[43mautograd\u001b[49m\u001b[43m.\u001b[49m\u001b[43mbackward\u001b[49m\u001b[43m(\u001b[49m\n\u001b[32m    648\u001b[39m \u001b[43m    \u001b[49m\u001b[38;5;28;43mself\u001b[39;49m\u001b[43m,\u001b[49m\u001b[43m \u001b[49m\u001b[43mgradient\u001b[49m\u001b[43m,\u001b[49m\u001b[43m \u001b[49m\u001b[43mretain_graph\u001b[49m\u001b[43m,\u001b[49m\u001b[43m \u001b[49m\u001b[43mcreate_graph\u001b[49m\u001b[43m,\u001b[49m\u001b[43m \u001b[49m\u001b[43minputs\u001b[49m\u001b[43m=\u001b[49m\u001b[43minputs\u001b[49m\n\u001b[32m    649\u001b[39m \u001b[43m\u001b[49m\u001b[43m)\u001b[49m\n",
            "\u001b[36mFile \u001b[39m\u001b[32mc:\\Natural-Language-Processing\\venv\\Lib\\site-packages\\torch\\autograd\\__init__.py:354\u001b[39m, in \u001b[36mbackward\u001b[39m\u001b[34m(tensors, grad_tensors, retain_graph, create_graph, grad_variables, inputs)\u001b[39m\n\u001b[32m    349\u001b[39m     retain_graph = create_graph\n\u001b[32m    351\u001b[39m \u001b[38;5;66;03m# The reason we repeat the same comment below is that\u001b[39;00m\n\u001b[32m    352\u001b[39m \u001b[38;5;66;03m# some Python versions print out the first line of a multi-line function\u001b[39;00m\n\u001b[32m    353\u001b[39m \u001b[38;5;66;03m# calls in the traceback and some print out the last line\u001b[39;00m\n\u001b[32m--> \u001b[39m\u001b[32m354\u001b[39m \u001b[43m_engine_run_backward\u001b[49m\u001b[43m(\u001b[49m\n\u001b[32m    355\u001b[39m \u001b[43m    \u001b[49m\u001b[43mtensors\u001b[49m\u001b[43m,\u001b[49m\n\u001b[32m    356\u001b[39m \u001b[43m    \u001b[49m\u001b[43mgrad_tensors_\u001b[49m\u001b[43m,\u001b[49m\n\u001b[32m    357\u001b[39m \u001b[43m    \u001b[49m\u001b[43mretain_graph\u001b[49m\u001b[43m,\u001b[49m\n\u001b[32m    358\u001b[39m \u001b[43m    \u001b[49m\u001b[43mcreate_graph\u001b[49m\u001b[43m,\u001b[49m\n\u001b[32m    359\u001b[39m \u001b[43m    \u001b[49m\u001b[43minputs_tuple\u001b[49m\u001b[43m,\u001b[49m\n\u001b[32m    360\u001b[39m \u001b[43m    \u001b[49m\u001b[43mallow_unreachable\u001b[49m\u001b[43m=\u001b[49m\u001b[38;5;28;43;01mTrue\u001b[39;49;00m\u001b[43m,\u001b[49m\n\u001b[32m    361\u001b[39m \u001b[43m    \u001b[49m\u001b[43maccumulate_grad\u001b[49m\u001b[43m=\u001b[49m\u001b[38;5;28;43;01mTrue\u001b[39;49;00m\u001b[43m,\u001b[49m\n\u001b[32m    362\u001b[39m \u001b[43m\u001b[49m\u001b[43m)\u001b[49m\n",
            "\u001b[36mFile \u001b[39m\u001b[32mc:\\Natural-Language-Processing\\venv\\Lib\\site-packages\\torch\\autograd\\graph.py:829\u001b[39m, in \u001b[36m_engine_run_backward\u001b[39m\u001b[34m(t_outputs, *args, **kwargs)\u001b[39m\n\u001b[32m    827\u001b[39m     unregister_hooks = _register_logging_hooks_on_whole_graph(t_outputs)\n\u001b[32m    828\u001b[39m \u001b[38;5;28;01mtry\u001b[39;00m:\n\u001b[32m--> \u001b[39m\u001b[32m829\u001b[39m     \u001b[38;5;28;01mreturn\u001b[39;00m \u001b[43mVariable\u001b[49m\u001b[43m.\u001b[49m\u001b[43m_execution_engine\u001b[49m\u001b[43m.\u001b[49m\u001b[43mrun_backward\u001b[49m\u001b[43m(\u001b[49m\u001b[43m  \u001b[49m\u001b[38;5;66;43;03m# Calls into the C++ engine to run the backward pass\u001b[39;49;00m\n\u001b[32m    830\u001b[39m \u001b[43m        \u001b[49m\u001b[43mt_outputs\u001b[49m\u001b[43m,\u001b[49m\u001b[43m \u001b[49m\u001b[43m*\u001b[49m\u001b[43margs\u001b[49m\u001b[43m,\u001b[49m\u001b[43m \u001b[49m\u001b[43m*\u001b[49m\u001b[43m*\u001b[49m\u001b[43mkwargs\u001b[49m\n\u001b[32m    831\u001b[39m \u001b[43m    \u001b[49m\u001b[43m)\u001b[49m  \u001b[38;5;66;03m# Calls into the C++ engine to run the backward pass\u001b[39;00m\n\u001b[32m    832\u001b[39m \u001b[38;5;28;01mfinally\u001b[39;00m:\n\u001b[32m    833\u001b[39m     \u001b[38;5;28;01mif\u001b[39;00m attach_logging_hooks:\n",
            "\u001b[31mKeyboardInterrupt\u001b[39m: "
          ]
        }
      ],
      "source": [
        "task.fit(epochs=3)"
      ]
    },
    {
      "cell_type": "markdown",
      "metadata": {
        "id": "EzGuzHPE87Ya"
      },
      "source": [
        "# 3.Testing and Evaluation\n",
        "(You can add as many code blocks and text blocks as you need. However, YOU SHOULD NOT MODIFY the section title)"
      ]
    },
    {
      "cell_type": "code",
      "execution_count": null,
      "metadata": {
        "id": "6ZVeNYIH9IaL"
      },
      "outputs": [],
      "source": []
    },
    {
      "cell_type": "markdown",
      "metadata": {
        "id": "mefSOe8eTmGP"
      },
      "source": [
        "## Object Oriented Programming codes here\n",
        "\n",
        "*You can use multiple code snippets. Just add more if needed*"
      ]
    }
  ],
  "metadata": {
    "colab": {
      "provenance": [],
      "toc_visible": true
    },
    "kernelspec": {
      "display_name": "venv",
      "language": "python",
      "name": "python3"
    },
    "language_info": {
      "codemirror_mode": {
        "name": "ipython",
        "version": 3
      },
      "file_extension": ".py",
      "mimetype": "text/x-python",
      "name": "python",
      "nbconvert_exporter": "python",
      "pygments_lexer": "ipython3",
      "version": "3.12.10"
    }
  },
  "nbformat": 4,
  "nbformat_minor": 0
}
